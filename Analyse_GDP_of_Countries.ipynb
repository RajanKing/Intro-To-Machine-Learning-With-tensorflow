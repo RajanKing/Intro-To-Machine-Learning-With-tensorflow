{
 "cells": [
  {
   "cell_type": "markdown",
   "metadata": {
    "colab_type": "text",
    "id": "JLYiK2BcCMMm"
   },
   "source": [
    "# <img src=\"http://cfs22.simplicdn.net/ice9/new_logo.svgz \"/>\n",
    "# \n",
    "# Assignment 01: Evaluate the GDP Dataset\n",
    "\n",
    "*The comments/sections provided are your cues to perform the assignment. You don't need to limit yourself to the number of rows/cells provided. You can add additional rows in each section to add more lines of code.*\n",
    "\n",
    "*If at any point in time you need help on solving this assignment, view our demo video to understand the different steps of the code.*\n",
    "\n",
    "**Happy coding!**\n",
    "\n",
    "* * *"
   ]
  },
  {
   "cell_type": "markdown",
   "metadata": {
    "colab_type": "text",
    "id": "omPlffkMCTDK"
   },
   "source": [
    "#### 1: View and add the dataset"
   ]
  },
  {
   "cell_type": "code",
   "execution_count": 5,
   "metadata": {
    "colab": {},
    "colab_type": "code",
    "id": "1e6JnOkaCM-_"
   },
   "outputs": [],
   "source": [
    "#Import required library\n",
    "import numpy as np\n",
    "import pandas as pd\n"
   ]
  },
  {
   "cell_type": "code",
   "execution_count": 6,
   "metadata": {
    "colab": {},
    "colab_type": "code",
    "id": "6m17fKYECeGF"
   },
   "outputs": [
    {
     "data": {
      "text/html": [
       "<div>\n",
       "<style scoped>\n",
       "    .dataframe tbody tr th:only-of-type {\n",
       "        vertical-align: middle;\n",
       "    }\n",
       "\n",
       "    .dataframe tbody tr th {\n",
       "        vertical-align: top;\n",
       "    }\n",
       "\n",
       "    .dataframe thead th {\n",
       "        text-align: right;\n",
       "    }\n",
       "</style>\n",
       "<table border=\"1\" class=\"dataframe\">\n",
       "  <thead>\n",
       "    <tr style=\"text-align: right;\">\n",
       "      <th></th>\n",
       "      <th>Country</th>\n",
       "      <th>Gdp</th>\n",
       "    </tr>\n",
       "  </thead>\n",
       "  <tbody>\n",
       "    <tr>\n",
       "      <td>0</td>\n",
       "      <td>Algeria</td>\n",
       "      <td>2255.225482</td>\n",
       "    </tr>\n",
       "    <tr>\n",
       "      <td>1</td>\n",
       "      <td>Angola</td>\n",
       "      <td>629.955306</td>\n",
       "    </tr>\n",
       "    <tr>\n",
       "      <td>2</td>\n",
       "      <td>Argentina</td>\n",
       "      <td>11601.630220</td>\n",
       "    </tr>\n",
       "    <tr>\n",
       "      <td>3</td>\n",
       "      <td>Australia</td>\n",
       "      <td>25306.824940</td>\n",
       "    </tr>\n",
       "    <tr>\n",
       "      <td>4</td>\n",
       "      <td>Austria</td>\n",
       "      <td>27266.403350</td>\n",
       "    </tr>\n",
       "  </tbody>\n",
       "</table>\n",
       "</div>"
      ],
      "text/plain": [
       "     Country           Gdp\n",
       "0    Algeria   2255.225482\n",
       "1     Angola    629.955306\n",
       "2  Argentina  11601.630220\n",
       "3  Australia  25306.824940\n",
       "4    Austria  27266.403350"
      ]
     },
     "execution_count": 6,
     "metadata": {},
     "output_type": "execute_result"
    }
   ],
   "source": [
    "#Manually add the dataset\n",
    "Country=['Algeria','Angola','Argentina','Australia','Austria','Bahamas','Bangladesh','Belarus','Belgium','Bhutan','Brazil','Bulgaria','Cambodia','Cameroon','Chile','China','Colombia','Cyprus','Denmark','El Salvador','Estonia','Ethiopia','Fiji','Finland','France','Georgia','Ghana','Grenada','Guinea','Haiti','Honduras','Hungary','India','Indonesia','Ireland','Italy','Japan','Kenya', 'South Korea','Liberia','Malaysia','Mexico', 'Morocco','Nepal','New Zealand','Norway','Pakistan', 'Peru','Qatar','Russia','Singapore','South Africa','Spain','Sweden','Switzerland','Thailand', 'United Arab Emirates','United Kingdom','United States','Uruguay','Venezuela','Vietnam','Zimbabwe'\n",
    "]\n",
    "Gdp=[2255.225482,629.9553062,11601.63022,25306.82494,27266.40335,19466.99052,588.3691778,2890.345675,24733.62696,1445.760002,4803.398244,2618.876037,590.4521124,665.7982328,7122.938458,2639.54156,3362.4656,15378.16704,30860.12808,2579.115607,6525.541272,229.6769525,2242.689259,27570.4852,23016.84778,1334.646773,402.6953275,6047.200797,394.1156638,385.5793827,1414.072488,5745.981529,837.7464011,1206.991065,27715.52837,18937.24998,39578.07441,478.2194906,16684.21278,279.2204061,5345.213415,6288.25324,1908.304416,274.8728621,14646.42094,40034.85063,672.1547506,3359.517402,36152.66676,3054.727742,33529.83052,3825.093781,15428.32098,33630.24604,39170.41371,2699.123242,21058.43643,28272.40661,37691.02733,9581.05659,5671.912202,757.4009286,347.7456605]\n",
    "\n",
    "\n",
    "list_of_tuples = list(zip(Country, Gdp))\n",
    "\n",
    "df = pd.DataFrame(list_of_tuples, columns = ['Country', 'Gdp'])\n",
    "df.head()"
   ]
  },
  {
   "cell_type": "markdown",
   "metadata": {
    "colab_type": "text",
    "id": "-FLRQPFyCn4d"
   },
   "source": [
    "#### 2: Find and print the name of the country with the highest GDP"
   ]
  },
  {
   "cell_type": "code",
   "execution_count": 7,
   "metadata": {
    "colab": {},
    "colab_type": "code",
    "id": "AbReJb3-CjHG"
   },
   "outputs": [
    {
     "name": "stdout",
     "output_type": "stream",
     "text": [
      "45\n"
     ]
    },
    {
     "name": "stderr",
     "output_type": "stream",
     "text": [
      "C:\\Anaconda3\\lib\\site-packages\\ipykernel_launcher.py:2: FutureWarning: \n",
      "The current behaviour of 'Series.argmax' is deprecated, use 'idxmax'\n",
      "instead.\n",
      "The behavior of 'argmax' will be corrected to return the positional\n",
      "maximum in the future. For now, use 'series.values.argmax' or\n",
      "'np.argmax(np.array(values))' to get the position of the maximum\n",
      "row.\n",
      "  \n"
     ]
    }
   ],
   "source": [
    "#Use the argmax() method to find the highest GDP\n",
    "print(df['Gdp'].argmax())"
   ]
  },
  {
   "cell_type": "code",
   "execution_count": 8,
   "metadata": {
    "colab": {},
    "colab_type": "code",
    "id": "uyTDD_NpCrb6"
   },
   "outputs": [
    {
     "name": "stdout",
     "output_type": "stream",
     "text": [
      "Country     Norway\n",
      "Gdp        40034.9\n",
      "Name: 45, dtype: object\n"
     ]
    },
    {
     "name": "stderr",
     "output_type": "stream",
     "text": [
      "C:\\Anaconda3\\lib\\site-packages\\ipykernel_launcher.py:2: FutureWarning: \n",
      "The current behaviour of 'Series.argmax' is deprecated, use 'idxmax'\n",
      "instead.\n",
      "The behavior of 'argmax' will be corrected to return the positional\n",
      "maximum in the future. For now, use 'series.values.argmax' or\n",
      "'np.argmax(np.array(values))' to get the position of the maximum\n",
      "row.\n",
      "  \n"
     ]
    }
   ],
   "source": [
    "#Print the name of the country\n",
    "print(df.iloc[df['Gdp'].argmax()])"
   ]
  },
  {
   "cell_type": "markdown",
   "metadata": {
    "colab_type": "text",
    "id": "KwbMxtWcC9mX"
   },
   "source": [
    "#### 3: Find and print the name of the country with the lowest GDP"
   ]
  },
  {
   "cell_type": "code",
   "execution_count": 9,
   "metadata": {
    "colab": {},
    "colab_type": "code",
    "id": "eMvAN87HC58Y"
   },
   "outputs": [
    {
     "name": "stderr",
     "output_type": "stream",
     "text": [
      "C:\\Anaconda3\\lib\\site-packages\\ipykernel_launcher.py:2: FutureWarning: \n",
      "The current behaviour of 'Series.argmin' is deprecated, use 'idxmin'\n",
      "instead.\n",
      "The behavior of 'argmin' will be corrected to return the positional\n",
      "minimum in the future. For now, use 'series.values.argmin' or\n",
      "'np.argmin(np.array(values))' to get the position of the minimum\n",
      "row.\n",
      "  \n"
     ]
    },
    {
     "data": {
      "text/plain": [
       "21"
      ]
     },
     "execution_count": 9,
     "metadata": {},
     "output_type": "execute_result"
    }
   ],
   "source": [
    "#Use the argmin() method to find the lowest GDP\n",
    "df['Gdp'].argmin()"
   ]
  },
  {
   "cell_type": "code",
   "execution_count": 10,
   "metadata": {
    "colab": {},
    "colab_type": "code",
    "id": "G308N-jQDBGB"
   },
   "outputs": [
    {
     "name": "stdout",
     "output_type": "stream",
     "text": [
      "Country    Ethiopia\n",
      "Gdp         229.677\n",
      "Name: 21, dtype: object\n"
     ]
    },
    {
     "name": "stderr",
     "output_type": "stream",
     "text": [
      "C:\\Anaconda3\\lib\\site-packages\\ipykernel_launcher.py:2: FutureWarning: \n",
      "The current behaviour of 'Series.argmin' is deprecated, use 'idxmin'\n",
      "instead.\n",
      "The behavior of 'argmin' will be corrected to return the positional\n",
      "minimum in the future. For now, use 'series.values.argmin' or\n",
      "'np.argmin(np.array(values))' to get the position of the minimum\n",
      "row.\n",
      "  \n"
     ]
    }
   ],
   "source": [
    "#Print the name of the country\n",
    "print(df.iloc[df['Gdp'].argmin()])"
   ]
  },
  {
   "cell_type": "markdown",
   "metadata": {
    "colab_type": "text",
    "id": "PK0JY7VIDN3f"
   },
   "source": [
    "#### 4: Print out text ('evaluating country') and input value ('country name') iteratively"
   ]
  },
  {
   "cell_type": "code",
   "execution_count": 11,
   "metadata": {
    "colab": {},
    "colab_type": "code",
    "id": "3JqtDp82DKjh"
   },
   "outputs": [
    {
     "name": "stdout",
     "output_type": "stream",
     "text": [
      "evaluating country : \tIndia\n",
      "   Country         Gdp\n",
      "32   India  837.746401\n"
     ]
    }
   ],
   "source": [
    "#Use a for loop to print the required output\n",
    "getCountry = input(\"evaluating country : \\t\")\n",
    "print(df[df['Country']==getCountry])"
   ]
  },
  {
   "cell_type": "markdown",
   "metadata": {
    "colab_type": "text",
    "id": "WdyeCNd1DWeX"
   },
   "source": [
    "#### 5: Print out the entire list of the countries with their GDPs"
   ]
  },
  {
   "cell_type": "code",
   "execution_count": 12,
   "metadata": {
    "colab": {},
    "colab_type": "code",
    "id": "vYB0vZI9DRA5"
   },
   "outputs": [
    {
     "name": "stdout",
     "output_type": "stream",
     "text": [
      "Algeria  \t 2255.225482\n",
      "Angola  \t 629.9553062\n",
      "Argentina  \t 11601.63022\n",
      "Australia  \t 25306.82494\n",
      "Austria  \t 27266.40335\n",
      "Bahamas  \t 19466.99052\n",
      "Bangladesh  \t 588.3691778\n",
      "Belarus  \t 2890.345675\n",
      "Belgium  \t 24733.62696\n",
      "Bhutan  \t 1445.760002\n",
      "Brazil  \t 4803.398244\n",
      "Bulgaria  \t 2618.876037\n",
      "Cambodia  \t 590.4521124\n",
      "Cameroon  \t 665.7982328\n",
      "Chile  \t 7122.938458\n",
      "China  \t 2639.54156\n",
      "Colombia  \t 3362.4656\n",
      "Cyprus  \t 15378.16704\n",
      "Denmark  \t 30860.12808\n",
      "El Salvador  \t 2579.115607\n",
      "Estonia  \t 6525.541272\n",
      "Ethiopia  \t 229.6769525\n",
      "Fiji  \t 2242.689259\n",
      "Finland  \t 27570.4852\n",
      "France  \t 23016.84778\n",
      "Georgia  \t 1334.646773\n",
      "Ghana  \t 402.6953275\n",
      "Grenada  \t 6047.200797\n",
      "Guinea  \t 394.1156638\n",
      "Haiti  \t 385.5793827\n",
      "Honduras  \t 1414.072488\n",
      "Hungary  \t 5745.981529\n",
      "India  \t 837.7464011\n",
      "Indonesia  \t 1206.991065\n",
      "Ireland  \t 27715.52837\n",
      "Italy  \t 18937.24998\n",
      "Japan  \t 39578.07441\n",
      "Kenya  \t 478.2194906\n",
      "South Korea  \t 16684.21278\n",
      "Liberia  \t 279.2204061\n",
      "Malaysia  \t 5345.213415\n",
      "Mexico  \t 6288.25324\n",
      "Morocco  \t 1908.304416\n",
      "Nepal  \t 274.8728621\n",
      "New Zealand  \t 14646.42094\n",
      "Norway  \t 40034.85063\n",
      "Pakistan  \t 672.1547506\n",
      "Peru  \t 3359.517402\n",
      "Qatar  \t 36152.66676\n",
      "Russia  \t 3054.727742\n",
      "Singapore  \t 33529.83052\n",
      "South Africa  \t 3825.093781\n",
      "Spain  \t 15428.32098\n",
      "Sweden  \t 33630.24604\n",
      "Switzerland  \t 39170.41371\n",
      "Thailand  \t 2699.123242\n",
      "United Arab Emirates  \t 21058.43643\n",
      "United Kingdom  \t 28272.40661\n",
      "United States  \t 37691.02733\n",
      "Uruguay  \t 9581.05659\n",
      "Venezuela  \t 5671.912202\n",
      "Vietnam  \t 757.4009286\n",
      "Zimbabwe  \t 347.7456605\n"
     ]
    }
   ],
   "source": [
    "#Use a for loop to print the required list\n",
    "\n",
    "for ind in df.index: \n",
    "     print(df['Country'][ind], df['Gdp'][ind] , sep=\"  \\t \")"
   ]
  },
  {
   "cell_type": "markdown",
   "metadata": {
    "colab_type": "text",
    "id": "qzfoR3V_EL1M"
   },
   "source": [
    "#### 6: Print the following:\n",
    "1. Highest GPD value\n",
    "2. Lowest GDP value\n",
    "3. Mean GDP value\n",
    "4. Standardized GDP value\n",
    "5. Sum of all the GDPs"
   ]
  },
  {
   "cell_type": "code",
   "execution_count": 13,
   "metadata": {
    "colab": {},
    "colab_type": "code",
    "id": "JDk8uhIdDZ8v"
   },
   "outputs": [
    {
     "name": "stdout",
     "output_type": "stream",
     "text": [
      "Highest GPD value     \t\n",
      "    Country          Gdp\n",
      "45  Norway  40034.85063\n",
      "\n",
      "Lowest GDP value      \t\n",
      "      Country         Gdp\n",
      "21  Ethiopia  229.676952\n",
      "\n",
      "Mean GDP value        \t\n",
      " 11289.409271639684\n",
      "\n",
      "Standardized GDP value\t\n",
      " 12846.190626580401\n",
      "\n",
      "Sum of all the GDPs   \t\n",
      " 711232.7841133\n",
      "\n"
     ]
    }
   ],
   "source": [
    "print(\"Highest GPD value     \\t\\n\", df[df['Gdp'] == df['Gdp'].max()],end=\"\\n\\n\")\n",
    "print(\"Lowest GDP value      \\t\\n\", df[df['Gdp'] == df['Gdp'].min()],end=\"\\n\\n\")\n",
    "print(\"Mean GDP value        \\t\\n\", df['Gdp'].mean(),end=\"\\n\\n\")\n",
    "print(\"Standardized GDP value\\t\\n\", df['Gdp'].std(),end=\"\\n\\n\")\n",
    "print(\"Sum of all the GDPs   \\t\\n\", df['Gdp'].sum(),end=\"\\n\\n\")"
   ]
  }
 ],
 "metadata": {
  "colab": {
   "collapsed_sections": [],
   "name": "Analyse GDP of Countries.ipynb",
   "private_outputs": true,
   "provenance": []
  },
  "kernelspec": {
   "display_name": "Python 3",
   "language": "python",
   "name": "python3"
  },
  "language_info": {
   "codemirror_mode": {
    "name": "ipython",
    "version": 3
   },
   "file_extension": ".py",
   "mimetype": "text/x-python",
   "name": "python",
   "nbconvert_exporter": "python",
   "pygments_lexer": "ipython3",
   "version": "3.7.4"
  }
 },
 "nbformat": 4,
 "nbformat_minor": 1
}
