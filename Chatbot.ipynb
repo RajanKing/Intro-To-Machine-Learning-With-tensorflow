{
 "cells": [
  {
   "cell_type": "code",
   "execution_count": null,
   "metadata": {},
   "outputs": [],
   "source": [
    "import nltk as ntk"
   ]
  },
  {
   "cell_type": "code",
   "execution_count": 6,
   "metadata": {},
   "outputs": [
    {
     "name": "stdout",
     "output_type": "stream",
     "text": [
      "Help on module nltk.chat.iesha in nltk.chat:\n",
      "\n",
      "NAME\n",
      "    nltk.chat.iesha\n",
      "\n",
      "DESCRIPTION\n",
      "    This chatbot is a tongue-in-cheek take on the average teen\n",
      "    anime junky that frequents YahooMessenger or MSNM.\n",
      "    All spelling mistakes and flawed grammar are intentional.\n",
      "\n",
      "FUNCTIONS\n",
      "    demo()\n",
      "    \n",
      "    iesha_chat()\n",
      "\n",
      "DATA\n",
      "    iesha_chatbot = <nltk.chat.util.Chat object>\n",
      "    pairs = ((r\"I\\'m (.*)\", (\"ur%1?? that's so cool! kekekekeke ^_^ tell m...\n",
      "    print_function = _Feature((2, 6, 0, 'alpha', 2), (3, 0, 0, 'alpha', 0)...\n",
      "    reflections = {'am': 'r', 'are': 'am', 'i': 'u', \"i'd\": \"u'd\", \"i'll\":...\n",
      "\n",
      "FILE\n",
      "    c:\\anaconda3\\lib\\site-packages\\nltk\\chat\\iesha.py\n",
      "\n",
      "\n"
     ]
    }
   ],
   "source": [
    "help('nltk.chat.iesha')"
   ]
  },
  {
   "cell_type": "code",
   "execution_count": null,
   "metadata": {},
   "outputs": [],
   "source": [
    "help('nltk.chat.eliza.eliza_chat()')"
   ]
  },
  {
   "cell_type": "code",
   "execution_count": 7,
   "metadata": {},
   "outputs": [],
   "source": [
    "import nltk.chat.iesha as iesha"
   ]
  },
  {
   "cell_type": "code",
   "execution_count": null,
   "metadata": {},
   "outputs": [
    {
     "name": "stdout",
     "output_type": "stream",
     "text": [
      "Iesha the TeenBoT\n",
      "---------\n",
      "Talk to the program by typing in plain English, using normal upper-\n",
      "and lower-case letters and punctuation.  Enter \"quit\" when done.\n",
      "========================================================================\n",
      "hi!! i'm iesha! who r u??!\n",
      ">hi\n",
      "do u watch anime? i like sailor moon! ^_^\n",
      ">s\n",
      "do u like anime?\n"
     ]
    }
   ],
   "source": [
    "iesha.demo()"
   ]
  },
  {
   "cell_type": "code",
   "execution_count": null,
   "metadata": {},
   "outputs": [],
   "source": [
    "help('nltk.chat.util')"
   ]
  },
  {
   "cell_type": "markdown",
   "metadata": {},
   "source": [
    "Chat Bot \n",
    "\n",
    "(text mining)\n",
    "\n",
    "1. sentimental analysis\n",
    "2. speech recorginization\n",
    "3. machine translation\n"
   ]
  },
  {
   "cell_type": "code",
   "execution_count": null,
   "metadata": {},
   "outputs": [],
   "source": [
    "print(help('nltk.chat.util.Chat'))"
   ]
  },
  {
   "cell_type": "code",
   "execution_count": null,
   "metadata": {},
   "outputs": [],
   "source": [
    "from nltk.chat.util import Chat,reflections\n",
    "pairs=[\n",
    "    [\n",
    "        r\"what is your name ?\",\n",
    "        [\"My name is Raj and I'm a chatbot ?\\n How can i help You\",]\n",
    "    ],\n",
    "    [\n",
    "        r\"my name is (.*)\",\n",
    "        [\"Hello %1, How are you today ?\",]\n",
    "    ],\n",
    "     [\n",
    "        r\"hi|hey|hello\",\n",
    "        [\"Hello\", \"Hey there\",]\n",
    "    ],\n",
    "   \n",
    "]\n",
    "def chatty():\n",
    "    print(\"Hi, I'm Chatty and I chat alot ;)\\nPlease type lowercase English language to start a conversation. Type quit to leave \") #default message at the start\n",
    "    chat = Chat(pairs, reflections)\n",
    "    chat.converse()\n",
    "if __name__ == \"__main__\":\n",
    "    chatty()"
   ]
  },
  {
   "cell_type": "code",
   "execution_count": null,
   "metadata": {},
   "outputs": [],
   "source": []
  }
 ],
 "metadata": {
  "kernelspec": {
   "display_name": "Python 3",
   "language": "python",
   "name": "python3"
  },
  "language_info": {
   "codemirror_mode": {
    "name": "ipython",
    "version": 3
   },
   "file_extension": ".py",
   "mimetype": "text/x-python",
   "name": "python",
   "nbconvert_exporter": "python",
   "pygments_lexer": "ipython3",
   "version": "3.7.4"
  }
 },
 "nbformat": 4,
 "nbformat_minor": 2
}
